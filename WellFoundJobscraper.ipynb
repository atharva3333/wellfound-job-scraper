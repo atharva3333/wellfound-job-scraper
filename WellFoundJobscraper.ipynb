{
 "cells": [
  {
   "cell_type": "code",
   "execution_count": 5,
   "id": "4ce5cd4e",
   "metadata": {},
   "outputs": [],
   "source": [
    "import requests\n",
    "from bs4 import BeautifulSoup"
   ]
  },
  {
   "cell_type": "code",
   "execution_count": 22,
   "id": "500ef11a",
   "metadata": {},
   "outputs": [],
   "source": [
    "url = 'https://wellfound.com/role/r/software-engineer'\n",
    "response = requests.get(url)\n",
    "soup = BeautifulSoup(response.text, 'html.parser')"
   ]
  },
  {
   "cell_type": "code",
   "execution_count": 40,
   "id": "8dc0a800",
   "metadata": {},
   "outputs": [],
   "source": [
    "job_listings = []\n",
    "\n",
    "company_name = soup.find_all('h4', class_='styles_name__rSxBl')\n",
    "company_sizes = soup.find_all('div', class_='styles_companySize__D_QfD')\n",
    "job_positions = soup.find_all('div', class_='styles_information__5kR_w')\n",
    "\n",
    "for title, size, position in zip(company_name, company_sizes, job_positions):\n",
    "    job_position_texts = [item.text.strip() for item in position.find_all(['a', 'span'])]\n",
    "    job_listings.append([title.text.strip(), size.span.text.strip(), job_position_texts])"
   ]
  },
  {
   "cell_type": "code",
   "execution_count": 41,
   "id": "13f183d0",
   "metadata": {},
   "outputs": [
    {
     "name": "stdout",
     "output_type": "stream",
     "text": [
      "['Sprinter Health', '11-50 employees', ['Software Engineer', 'Menlo Park • Remote possible • $100k – $140k • 0.03% – 0.1%', '• $100k – $140k • 0.03% – 0.1%', '5 days ago']]\n",
      "['River', '51-200 employees', ['Software Engineer', 'Remote possible • $120k – $150k', '• $120k – $150k', '5 days ago']]\n",
      "['Datavant', '1001-5000 employees', ['Senior Software Engineer', 'Remote possible • $150k – $220k', '• $150k – $220k', '5 days ago']]\n",
      "['Shopgenie', '11-50 employees', ['Software Engineer', 'United States • Remote possible • $140k – $205k', '• $140k – $205k', '4 days ago']]\n",
      "['Octopus Energy', '51-200 employees', ['Senior Software Engineer', 'United States • Remote possible • $150k – $300k', '• $150k – $300k', '2 weeks ago']]\n",
      "['Bundle', '11-50 employees', ['Lead Software Engineer', 'Canada • United States • Remote possible • $180k – $350k', '• $180k – $350k', '2 weeks ago']]\n",
      "['Wizeline', '501-1000 employees', ['Software Engineer', 'Scottsdale • Remote possible • $85k – $125k • 0.01% – 0.025%', '• $85k – $125k • 0.01% – 0.025%', '4 days ago']]\n",
      "['e-Core', '201-500 employees', ['Senior Software Engineer', 'Scottsdale • Remote possible • $120k – $175k • 0.1% – 0.25%', '• $120k – $175k • 0.1% – 0.25%', '4 days ago']]\n",
      "['Durianpay', '11-50 employees', ['Software Engineer', 'United Kingdom • Remote possible', '3 days ago']]\n",
      "['Aikenist', '11-50 employees', ['Software Engineer', 'San Francisco Bay Area • Remote possible • $85k – $125k • 0.1% – 0.4%', '• $85k – $125k • 0.1% – 0.4%', '2 weeks ago']]\n",
      "['Cognitree', '11-50 employees', ['Java Software Engineer', 'Remote possible', '2 days ago']]\n",
      "['WorkStep', '51-200 employees', ['iOS Software Engineer', 'Remote possible', '2 days ago']]\n",
      "['Seso', '11-50 employees', ['Android Software Engineer', 'Remote possible', '2 days ago']]\n",
      "['B&W Energy Services', '51-200 employees', ['Software Engineer', 'Brazil • Remote possible', '3 days ago']]\n",
      "['VGW', '201-500 employees', ['Software Engineer', 'Bengaluru • Remote possible • ₹14L – ₹25L', '• ₹14L – ₹25L', '3 weeks ago']]\n",
      "['Volt Labs', '11-50 employees', ['Software Engineer', 'Bengaluru • Remote possible • ₹4L – ₹8L • 0.05% – 0.1%', '• ₹4L – ₹8L • 0.05% – 0.1%', '2 weeks ago']]\n",
      "['GigEasy', '1-10 employees', ['AI engineer', 'Bengaluru • Remote possible • ₹6L – ₹12L • No equity', '• ₹6L – ₹12L • No equity', '2 weeks ago']]\n",
      "['Motive', '1001-5000 employees', ['Software Engineer', 'Bengaluru • Remote possible • ₹6.5L – ₹12L • No equity', '• ₹6.5L – ₹12L • No equity', '2 weeks ago']]\n",
      "['useeverest.com', '11-50 employees', ['Senior Software Engineer', 'Portland • Remote possible • $140k – $170k', '• $140k – $170k', '3 days ago']]\n",
      "['Based', '1-10 employees', ['Software Engineer', 'Remote possible • $120k – $200k • 0.1% – 0.5%', '• $120k – $200k • 0.1% – 0.5%', '1 month ago']]\n"
     ]
    }
   ],
   "source": [
    "for listing in job_listings:\n",
    "    print(listing)"
   ]
  },
  {
   "cell_type": "code",
   "execution_count": null,
   "id": "4ff12615",
   "metadata": {},
   "outputs": [],
   "source": []
  }
 ],
 "metadata": {
  "kernelspec": {
   "display_name": "Python 3 (ipykernel)",
   "language": "python",
   "name": "python3"
  },
  "language_info": {
   "codemirror_mode": {
    "name": "ipython",
    "version": 3
   },
   "file_extension": ".py",
   "mimetype": "text/x-python",
   "name": "python",
   "nbconvert_exporter": "python",
   "pygments_lexer": "ipython3",
   "version": "3.11.5"
  }
 },
 "nbformat": 4,
 "nbformat_minor": 5
}
